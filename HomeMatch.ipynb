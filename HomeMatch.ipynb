{
 "cells": [
  {
   "cell_type": "code",
   "execution_count": 1,
   "metadata": {},
   "outputs": [],
   "source": [
    "import os\n",
    "import pandas as pd\n",
    "from langchain.llms import OpenAI\n",
    "from langchain.chat_models import ChatOpenAI\n",
    "from langchain.document_loaders.csv_loader import CSVLoader\n",
    "from langchain.embeddings.openai import OpenAIEmbeddings #langchain==0.0.332 is needed for this to work properly\n",
    "from langchain.prompts.chat import ChatPromptTemplate, HumanMessagePromptTemplate\n",
    "from langchain.text_splitter import CharacterTextSplitter\n",
    "from langchain.vectorstores import Chroma\n",
    "from langchain.output_parsers import PydanticOutputParser\n",
    "from pydantic import BaseModel, Field\n",
    "from langchain.memory import ConversationSummaryMemory, ChatMessageHistory\n",
    "from langchain.chains import ConversationChain\n",
    "from langchain.prompts import PromptTemplate\n",
    "from langchain.chains.question_answering import load_qa_chain\n",
    "\n",
    "from operator import itemgetter"
   ]
  },
  {
   "cell_type": "code",
   "execution_count": 2,
   "metadata": {},
   "outputs": [],
   "source": [
    "openai_api_key = os.environ[\"OPENAI_API_KEY\"]\n",
    "\n",
    "temperature = 0.0 \n",
    "listing_example_llm = ChatOpenAI(temperature=temperature, openai_api_key=openai_api_key) \n"
   ]
  },
  {
   "cell_type": "code",
   "execution_count": 3,
   "metadata": {},
   "outputs": [],
   "source": [
    "# ---------- Define output data types within the Listings class and initialize a parser to capture the output ----------------- # \n",
    "\n",
    "class Listings(BaseModel):\n",
    "\n",
    "    values: list = Field(description='real estate listing with Neighborhood, Price ($, without comma), Bedrooms (1-6), Bathrooms (1-6), House Size (sqft, without comma), Description, Neighborhood Description')\n",
    "\n",
    "listings_parser = PydanticOutputParser(pydantic_object=Listings)"
   ]
  },
  {
   "cell_type": "code",
   "execution_count": 4,
   "metadata": {},
   "outputs": [],
   "source": [
    "# ----------- Setup the request for llm call to generate real estate listings ---------------- #\n",
    "\n",
    "human_prompt = HumanMessagePromptTemplate.from_template(\"{request}\\n{format_instructions}\")\n",
    "chat_prompt = ChatPromptTemplate.from_messages([human_prompt])\n",
    "\n",
    "request = chat_prompt.format_prompt(\n",
    "    request=\"Give me 4 imaginary and creative but realistic real estate listings with very long, descriptive, detailed Description and Neighborhood Description using the example:\\n\\n{input_example}\",\n",
    "    format_instructions=listings_parser.get_format_instructions()\n",
    ").to_messages()\n",
    "\n",
    "input_example = \"\"\"\n",
    "Neighborhood: Green Oaks\n",
    "Price: $800,000\n",
    "Bedrooms: 3\n",
    "Bathrooms: 2\n",
    "House Size: 2,000 sqft\n",
    "\n",
    "Description: Welcome to this eco-friendly oasis nestled in the heart of Green Oaks. This charming 3-bedroom, 2-bathroom home boasts energy-efficient features such as solar panels and a well-insulated structure. Natural light floods the living spaces, highlighting the beautiful hardwood floors and eco-conscious finishes. The open-concept kitchen and dining area lead to a spacious backyard with a vegetable garden, perfect for the eco-conscious family. Embrace sustainable living without compromising on style in this Green Oaks gem.\n",
    "\n",
    "Neighborhood Description: Green Oaks is a close-knit, environmentally-conscious community with access to organic grocery stores, community gardens, and bike paths. Take a stroll through the nearby Green Oaks Park or grab a cup of coffee at the cozy Green Bean Cafe. With easy access to public transportation and bike lanes, commuting is a breeze.\n",
    "\"\"\"\n"
   ]
  },
  {
   "cell_type": "code",
   "execution_count": null,
   "metadata": {},
   "outputs": [],
   "source": [
    "# ----------- Make the llm call to create hypothetical listings and aggregate them and save the llm call results (hypothetical listings) in a csv file to avoid making multiple calls to the llm ---------------- #\n",
    "\n",
    "# list_of_df_listings = []\n",
    "\n",
    "# for _ in range(6):\n",
    "#     results = listing_example_llm(request, temperature=0)\n",
    "#     results_values = listings_parser.parse(results.content)\n",
    "\n",
    "#     # print(results_values.values)\n",
    "#     df_listings_t = pd.DataFrame(results_values.values)\n",
    "#     list_of_df_listings.append(df_listings_t.copy())\n",
    "\n",
    "# df_listings = pd.concat(list_of_df_listings, ignore_index=True, sort=False).drop_duplicates(subset=[\"Neighborhood\"]).copy()\n",
    "\n",
    "# df_listings.to_csv(\"./listings.csv\", index=False)\n"
   ]
  },
  {
   "cell_type": "code",
   "execution_count": 5,
   "metadata": {},
   "outputs": [],
   "source": [
    "# ----------- Load the listing examples from csv file -------------------#\n",
    "\n",
    "loader = CSVLoader(file_path='./listings.csv')\n",
    "docs = loader.load()\n"
   ]
  },
  {
   "cell_type": "code",
   "execution_count": 6,
   "metadata": {},
   "outputs": [],
   "source": [
    "# -------------- Create and save the embeddings in a Chroma db -------------------#\n",
    "\n",
    "embeddings = OpenAIEmbeddings(openai_api_key=openai_api_key)\n",
    "\n",
    "splitter = CharacterTextSplitter(chunk_size=1000, chunk_overlap=0)\n",
    "split_docs = splitter.split_documents(docs)\n",
    "\n",
    "db = Chroma.from_documents(split_docs, embeddings)"
   ]
  },
  {
   "cell_type": "code",
   "execution_count": 7,
   "metadata": {},
   "outputs": [],
   "source": [
    "# ------------------ Capture user preference (in the form of a list of questions and answers) -------------- #\n",
    "questions = [   \n",
    "                \"How big do you want your house to be?\", \n",
    "                \"What are 3 most important things for you in choosing this property?\", \n",
    "                \"Which amenities would you like?\", \n",
    "                \"Which transportation options are important to you?\",\n",
    "                \"How urban do you want your neighborhood to be?\",   \n",
    "            ]\n",
    "answers = [\n",
    "    \"A comfortable three-bedroom house with a spacious kitchen and a cozy living room.\",\n",
    "    \"A quiet neighborhood, good local schools, and convenient shopping options.\",\n",
    "    \"A backyard for gardening, a two-car garage, and a modern, energy-efficient heating system.\",\n",
    "    \"Easy access to a reliable bus line, proximity to a major highway, and bike-friendly roads.\",\n",
    "    \"A balance between suburban tranquility and access to urban amenities like restaurants and theaters.\"\n",
    "            ]\n"
   ]
  },
  {
   "cell_type": "code",
   "execution_count": 8,
   "metadata": {},
   "outputs": [
    {
     "name": "stdout",
     "output_type": "stream",
     "text": [
      "The user's preferences for a house include a comfortable three-bedroom layout with a spacious kitchen and cozy living room. The most important factors for the user are a quiet neighborhood, good local schools, and convenient shopping options. They would like amenities such as a backyard for gardening, a two-car garage, and a modern, energy-efficient heating system. Transportation options important to them include easy access to a reliable bus line, proximity to a major highway, and bike-friendly roads. The user desires a neighborhood that strikes a balance between suburban tranquility and access to urban amenities like restaurants and theaters.\n"
     ]
    }
   ],
   "source": [
    "# --------------- Summarize user preference ------------- #\n",
    "\n",
    "user_preference_llm = ChatOpenAI(temperature=temperature, openai_api_key=openai_api_key) \n",
    "\n",
    "history = ChatMessageHistory()\n",
    "history.add_user_message(f\"\"\"You are AI that will recommend user house listing based on their answers to preference questions. Ask user {len(questions)} questions\"\"\")\n",
    "for i in range(len(questions)):\n",
    "    history.add_ai_message(questions[i])\n",
    "    history.add_user_message(answers[i])\n",
    "    \n",
    "conversation_with_summary = ConversationChain(\n",
    "    llm=user_preference_llm,\n",
    "    memory=ConversationSummaryMemory.from_messages(llm=user_preference_llm, chat_memory=history, return_messages=True),\n",
    "    verbose=False\n",
    ")\n",
    "query = conversation_with_summary.predict(input=\"What is the user preference? Please highlight the most important things first\")\n",
    "\n",
    "print(query)"
   ]
  },
  {
   "cell_type": "code",
   "execution_count": 9,
   "metadata": {},
   "outputs": [
    {
     "name": "stdout",
     "output_type": "stream",
     "text": [
      "[Document(page_content='Neighborhood: Urban Chic Loft\\nPrice: 800000\\nBedrooms: 2\\nBathrooms: 2\\nHouse Size: 1800\\nDescription: Live in style in this modern urban chic loft located in the heart of the city. This 2 bedroom, 2 bathroom loft features an open concept living space with high ceilings, exposed brick walls, and industrial accents. The gourmet kitchen is equipped with stainless steel appliances and a large island. The master suite includes a walk-in closet and a sleek en-suite bathroom. The rooftop terrace offers stunning city views and is perfect for entertaining.\\nNeighborhood Description: The Urban Chic Loft neighborhood is a vibrant urban community with a mix of trendy restaurants, art galleries, and boutiques. Residents enjoy easy access to public transportation, cultural events, and nightlife hotspots.', metadata={'row': 7, 'source': './listings.csv'}), Document(page_content='Neighborhood: Urban Chic\\nPrice: 900000\\nBedrooms: 1\\nBathrooms: 1\\nHouse Size: 1000\\nDescription: Experience city living at its best in this stylish 1 bedroom, 1 bathroom loft in the heart of the Urban Chic neighborhood. The 1000 sqft space features high ceilings, exposed brick walls, and modern finishes. With trendy cafes, boutiques, and art galleries just steps away, this is urban living redefined.\\nNeighborhood Description: The Urban Chic neighborhood is a vibrant hub of culture, creativity, and innovation. Residents enjoy a thriving arts scene, live music venues, and foodie hotspots. The community hosts street festivals, art walks, and rooftop parties with skyline views. With a mix of historic charm and modern amenities, this neighborhood is the epitome of urban cool.', metadata={'row': 11, 'source': './listings.csv'}), Document(page_content=\"Neighborhood: Sunset Ridge\\nPrice: 600000\\nBedrooms: 3\\nBathrooms: 2\\nHouse Size: 2000\\nDescription: Discover the perfect blend of comfort and style at this modern ranch home in Sunset Ridge. This 3 bedroom, 2 bathroom property features an open floor plan with high ceilings and hardwood floors throughout. The chef's kitchen is equipped with quartz countertops and a breakfast bar. The master suite offers a walk-in closet and a spa-like bathroom. The backyard oasis includes a covered patio and a fire pit, perfect for outdoor gatherings.\\nNeighborhood Description: Sunset Ridge is a sought-after neighborhood known for its friendly community and convenient location. Residents have access to parks, walking trails, and recreational facilities. The neighborhood is close to major highways, making it easy to commute to downtown and other parts of the city.\", metadata={'row': 9, 'source': './listings.csv'}), Document(page_content='Neighborhood: Sunset Heights\\nPrice: 950000\\nBedrooms: 5\\nBathrooms: 4\\nHouse Size: 3500\\nDescription: Step into luxury in this stunning 5 bedroom, 4 bathroom home in Sunset Heights. The open concept floor plan is perfect for entertaining, with a gourmet kitchen, formal dining room, and a spacious living area. The master suite features a spa-like bathroom and a private balcony with breathtaking views. The backyard oasis includes a pool, hot tub, and outdoor kitchen.\\nNeighborhood Description: Sunset Heights is a prestigious neighborhood known for its panoramic views of the city and mountains. Residents enjoy easy access to top-rated schools, upscale dining, and shopping. The community is family-friendly with parks, playgrounds, and walking trails. Experience the best of luxury living in Sunset Heights.', metadata={'row': 1, 'source': './listings.csv'}), Document(page_content=\"Neighborhood: Enchanted Forest\\nPrice: 750000\\nBedrooms: 4\\nBathrooms: 3\\nHouse Size: 2800\\nDescription: Welcome to this charming cottage nestled in the heart of the Enchanted Forest. This 4 bedroom, 3 bathroom home features a cozy fireplace, hardwood floors, and a spacious backyard perfect for entertaining. The kitchen boasts granite countertops and stainless steel appliances. Enjoy the tranquility of nature while being just a short drive away from the city.\\nNeighborhood Description: The Enchanted Forest neighborhood is known for its lush greenery, winding paths, and sense of magic. Residents enjoy access to hiking trails, parks, and a strong sense of community. Local cafes and shops are just a stone's throw away, making this neighborhood the perfect blend of nature and convenience.\", metadata={'row': 0, 'source': './listings.csv'})]\n"
     ]
    }
   ],
   "source": [
    "# ---------------- Search vector database based on user preference ------------#\n",
    "\n",
    "retrieved_listings = db.similarity_search(query, k=5) \n",
    "\n",
    "print(retrieved_listings)\n"
   ]
  },
  {
   "cell_type": "code",
   "execution_count": 10,
   "metadata": {},
   "outputs": [
    {
     "name": "stdout",
     "output_type": "stream",
     "text": [
      "[{'score': 85, 'listing': Document(page_content=\"Neighborhood: Sunset Ridge\\nPrice: 600000\\nBedrooms: 3\\nBathrooms: 2\\nHouse Size: 2000\\nDescription: Discover the perfect blend of comfort and style at this modern ranch home in Sunset Ridge. This 3 bedroom, 2 bathroom property features an open floor plan with high ceilings and hardwood floors throughout. The chef's kitchen is equipped with quartz countertops and a breakfast bar. The master suite offers a walk-in closet and a spa-like bathroom. The backyard oasis includes a covered patio and a fire pit, perfect for outdoor gatherings.\\nNeighborhood Description: Sunset Ridge is a sought-after neighborhood known for its friendly community and convenient location. Residents have access to parks, walking trails, and recreational facilities. The neighborhood is close to major highways, making it easy to commute to downtown and other parts of the city.\", metadata={'row': 9, 'source': './listings.csv'})}, {'score': 85, 'listing': Document(page_content=\"Neighborhood: Enchanted Forest\\nPrice: 750000\\nBedrooms: 4\\nBathrooms: 3\\nHouse Size: 2800\\nDescription: Welcome to this charming cottage nestled in the heart of the Enchanted Forest. This 4 bedroom, 3 bathroom home features a cozy fireplace, hardwood floors, and a spacious backyard perfect for entertaining. The kitchen boasts granite countertops and stainless steel appliances. Enjoy the tranquility of nature while being just a short drive away from the city.\\nNeighborhood Description: The Enchanted Forest neighborhood is known for its lush greenery, winding paths, and sense of magic. Residents enjoy access to hiking trails, parks, and a strong sense of community. Local cafes and shops are just a stone's throw away, making this neighborhood the perfect blend of nature and convenience.\", metadata={'row': 0, 'source': './listings.csv'})}, {'score': 75, 'listing': Document(page_content='Neighborhood: Sunset Heights\\nPrice: 950000\\nBedrooms: 5\\nBathrooms: 4\\nHouse Size: 3500\\nDescription: Step into luxury in this stunning 5 bedroom, 4 bathroom home in Sunset Heights. The open concept floor plan is perfect for entertaining, with a gourmet kitchen, formal dining room, and a spacious living area. The master suite features a spa-like bathroom and a private balcony with breathtaking views. The backyard oasis includes a pool, hot tub, and outdoor kitchen.\\nNeighborhood Description: Sunset Heights is a prestigious neighborhood known for its panoramic views of the city and mountains. Residents enjoy easy access to top-rated schools, upscale dining, and shopping. The community is family-friendly with parks, playgrounds, and walking trails. Experience the best of luxury living in Sunset Heights.', metadata={'row': 1, 'source': './listings.csv'})}]\n"
     ]
    }
   ],
   "source": [
    "# ---------------- Create relevance score and filter out the listings with lower score ---------------- #\n",
    "\n",
    "personalization_llm = ChatOpenAI(temperature=temperature, openai_api_key=openai_api_key) \n",
    "\n",
    "scoring_prompt = PromptTemplate(\n",
    "        input_variables=[\"user_preference\", \"context\"],\n",
    "        template=\"\"\"\n",
    "        You are a helpful AI bot. Based on the {user_preference}, prioritizing the most important things, your goal is to provide a rating that is as close as possible to the score human would give to this {context}.\n",
    "            Remember that human has very limited time and wants to see something they will like, so your score should be as accurate as possible.\n",
    "            Score will range from 1 to 100, with 100 meaning human will love it, and 1 meaning human will hate it.\n",
    "            YOUR OUTPUT SHOULD INCLUDE THE SCORE ONLY AND NOTHING ELSE.\n",
    "            FOLLOW THE INSTRUCTIONS STRICTLY, OTHERWISE HUMAN WILL NOT BE ABLE TO UNDERSTAND.\n",
    "        \"\"\"\n",
    "\n",
    "    )\n",
    "scoring_chain = load_qa_chain(personalization_llm, prompt = scoring_prompt, chain_type=\"stuff\")\n",
    "\n",
    "\n",
    "list_of_relevant_listings = []\n",
    "\n",
    "for listing in retrieved_listings:\n",
    "    relevant_listing_dict = dict()\n",
    "    score = scoring_chain.run(input_documents=[listing], user_preference = query)\n",
    "    if int(score) >= 50: # Setting 50 as the threshold\n",
    "        relevant_listing_dict[\"score\"] = int(score)\n",
    "        relevant_listing_dict[\"listing\"] = listing\n",
    "\n",
    "        list_of_relevant_listings.append(relevant_listing_dict.copy())\n",
    "\n",
    "sorted_list_of_relevant_listings = sorted(list_of_relevant_listings, key=itemgetter('score'), reverse=True)\n",
    "\n",
    "print(sorted_list_of_relevant_listings)\n"
   ]
  },
  {
   "cell_type": "code",
   "execution_count": 13,
   "metadata": {},
   "outputs": [
    {
     "name": "stdout",
     "output_type": "stream",
     "text": [
      "Here are the suggested properties based on your preference:\n",
      "Property highlights:\n",
      "Sunset Ridge: Immerse yourself in the tranquil yet vibrant community of Sunset Ridge, where suburban charm meets urban convenience. This neighborhood offers a peaceful environment with easy access to parks, walking trails, and recreational facilities, perfect for those seeking a quiet and family-friendly atmosphere. Sunset Ridge is also strategically located near major highways, providing seamless commutes to downtown and beyond. Enjoy the best of both worlds with a friendly community and convenient amenities right at your doorstep.\n",
      "\n",
      "Property details:\n",
      "Neighborhood: Sunset Ridge\n",
      "Price: 600000\n",
      "Bedrooms: 3\n",
      "Bathrooms: 2\n",
      "House Size: 2000\n",
      "Description: Discover the perfect blend of comfort and style at this modern ranch home in Sunset Ridge. This 3 bedroom, 2 bathroom property features an open floor plan with high ceilings and hardwood floors throughout. The chef's kitchen is equipped with quartz countertops and a breakfast bar. The master suite offers a walk-in closet and a spa-like bathroom. The backyard oasis includes a covered patio and a fire pit, perfect for outdoor gatherings.\n",
      "Neighborhood Description: Sunset Ridge is a sought-after neighborhood known for its friendly community and convenient location. Residents have access to parks, walking trails, and recreational facilities. The neighborhood is close to major highways, making it easy to commute to downtown and other parts of the city.\n",
      "======================================\n",
      "Property highlights:\n",
      "Enchanted Forest Neighborhood:\n",
      "Welcome to the Enchanted Forest neighborhood, where suburban tranquility meets urban convenience. This charming cottage offers 4 bedrooms, 3 bathrooms, and a cozy fireplace for those chilly evenings. Hardwood floors and a spacious backyard make this home perfect for entertaining and gardening. The kitchen features granite countertops and stainless steel appliances, perfect for preparing meals for your family. \n",
      "\n",
      "The Enchanted Forest neighborhood is surrounded by lush greenery, offering winding paths and a sense of magic that aligns with your desire for a quiet and peaceful environment. You'll have easy access to hiking trails, parks, and a strong community spirit. Local cafes and shops are just a short distance away, providing convenient shopping options. \n",
      "\n",
      "This neighborhood strikes the perfect balance between nature and convenience, offering a serene escape while still being close to urban amenities like restaurants and theaters. With easy access to reliable bus lines, proximity to major highways, and bike-friendly roads, you'll have no trouble getting around. Don't miss out on the opportunity to call the Enchanted Forest neighborhood your new home.\n",
      "\n",
      "Property details:\n",
      "Neighborhood: Enchanted Forest\n",
      "Price: 750000\n",
      "Bedrooms: 4\n",
      "Bathrooms: 3\n",
      "House Size: 2800\n",
      "Description: Welcome to this charming cottage nestled in the heart of the Enchanted Forest. This 4 bedroom, 3 bathroom home features a cozy fireplace, hardwood floors, and a spacious backyard perfect for entertaining. The kitchen boasts granite countertops and stainless steel appliances. Enjoy the tranquility of nature while being just a short drive away from the city.\n",
      "Neighborhood Description: The Enchanted Forest neighborhood is known for its lush greenery, winding paths, and sense of magic. Residents enjoy access to hiking trails, parks, and a strong sense of community. Local cafes and shops are just a stone's throw away, making this neighborhood the perfect blend of nature and convenience.\n",
      "======================================\n",
      "Property highlights:\n",
      "Neighborhood: Sunset Heights\n",
      "\n",
      "Description: Welcome to Sunset Heights, a prestigious neighborhood offering panoramic views of the city and mountains. This luxurious 5 bedroom, 4 bathroom home in Sunset Heights is perfect for those seeking a comfortable and spacious layout. The gourmet kitchen, formal dining room, and spacious living area provide the perfect setting for entertaining guests. The neighborhood is known for its quiet and family-friendly atmosphere, with top-rated schools, upscale dining options, and convenient shopping nearby. Sunset Heights strikes the perfect balance between suburban tranquility and access to urban amenities, making it an ideal choice for those looking for a peaceful yet vibrant community. Experience the best of luxury living in Sunset Heights.\n",
      "\n",
      "Property details:\n",
      "Neighborhood: Sunset Heights\n",
      "Price: 950000\n",
      "Bedrooms: 5\n",
      "Bathrooms: 4\n",
      "House Size: 3500\n",
      "Description: Step into luxury in this stunning 5 bedroom, 4 bathroom home in Sunset Heights. The open concept floor plan is perfect for entertaining, with a gourmet kitchen, formal dining room, and a spacious living area. The master suite features a spa-like bathroom and a private balcony with breathtaking views. The backyard oasis includes a pool, hot tub, and outdoor kitchen.\n",
      "Neighborhood Description: Sunset Heights is a prestigious neighborhood known for its panoramic views of the city and mountains. Residents enjoy easy access to top-rated schools, upscale dining, and shopping. The community is family-friendly with parks, playgrounds, and walking trails. Experience the best of luxury living in Sunset Heights.\n",
      "======================================\n"
     ]
    }
   ],
   "source": [
    "# ------- Present the personalized relevant listings to the user ----------------- #\n",
    "\n",
    "personalization_prompt = PromptTemplate(\n",
    "        input_variables=[\"user_preference\", \"context\"],\n",
    "        template=\"\"\"\n",
    "        You are a helpful AI bot. Based on the {user_preference}, prioritizing the most important things, your goal is to provide a personalizaed description of the {context}. Emphasize aspects of the context that align with what the user is looking for, tailoring it to resonate with the user’s specific preferences.\n",
    "        Maintain Factual Integrity. Ensure that the personalization process enhances the appeal of the context without altering factual information. Stay within the facts mentioned in the context and avoid creating anything that does not exist in the context.\n",
    "        Remember that user has very limited time and wants to see something they will like, so your personalized description should be as accurate as possible.\n",
    "        YOUR OUTPUT SHOULD START WITH THE NEIGHBORHOOD NAME, FOLLOWED BY THE PERSONALIZED DESCRIPTION.\n",
    "        FOLLOW THE INSTRUCTIONS STRICTLY, OTHERWISE USER WILL NOT BE ABLE TO UNDERSTAND.\n",
    "        \"\"\"\n",
    "\n",
    "    )\n",
    "personalization_chain = load_qa_chain(personalization_llm, prompt = personalization_prompt, chain_type=\"stuff\")\n",
    "\n",
    "\n",
    "print(\"Here are the suggested properties based on your preference:\")\n",
    "\n",
    "for relevant_listing in sorted_list_of_relevant_listings:\n",
    "\n",
    "    print(\"Property highlights:\")\n",
    "    print(personalization_chain.run(input_documents=[relevant_listing[\"listing\"]], user_preference = query))\n",
    "    print(\"\")\n",
    "    print(\"Property details:\")\n",
    "    print(relevant_listing[\"listing\"].page_content)\n",
    "    print(\"======================================\")\n"
   ]
  },
  {
   "cell_type": "code",
   "execution_count": null,
   "metadata": {},
   "outputs": [],
   "source": []
  }
 ],
 "metadata": {
  "kernelspec": {
   "display_name": ".venv",
   "language": "python",
   "name": "python3"
  },
  "language_info": {
   "codemirror_mode": {
    "name": "ipython",
    "version": 3
   },
   "file_extension": ".py",
   "mimetype": "text/x-python",
   "name": "python",
   "nbconvert_exporter": "python",
   "pygments_lexer": "ipython3",
   "version": "3.12.2"
  }
 },
 "nbformat": 4,
 "nbformat_minor": 2
}
